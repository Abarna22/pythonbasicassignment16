{
 "cells": [
  {
   "cell_type": "code",
   "execution_count": 14,
   "id": "f46333e5",
   "metadata": {},
   "outputs": [
    {
     "name": "stdout",
     "output_type": "stream",
     "text": [
      "Enter the string:incredible\n",
      "in... in... incredible?\n"
     ]
    }
   ],
   "source": [
    "#qp1\n",
    "\n",
    "def stutters(word):\n",
    "    \n",
    "    s=word[:2]\n",
    "    return (2*(s+\"... \")+word+\"?\")\n",
    "word=input(\"Enter the string:\")\n",
    "print(stutters(word))\n"
   ]
  },
  {
   "cell_type": "code",
   "execution_count": 15,
   "id": "39d99437",
   "metadata": {},
   "outputs": [
    {
     "name": "stdout",
     "output_type": "stream",
     "text": [
      "Enter the angle in radian6\n",
      "343.8\n"
     ]
    }
   ],
   "source": [
    "#qp2\n",
    "import math\n",
    "def find_angle(angle):\n",
    "    \n",
    "    pi=math.pi\n",
    "    d=(angle*180)/pi\n",
    "    de=round(d,1)\n",
    "    return de\n",
    "angle=int(input(\"Enter the angle in radian\"))\n",
    "print(find_angle(angle))"
   ]
  },
  {
   "cell_type": "code",
   "execution_count": 19,
   "id": "d8a65f75",
   "metadata": {},
   "outputs": [
    {
     "name": "stdout",
     "output_type": "stream",
     "text": [
      "Enter the number:14\n",
      "True\n"
     ]
    }
   ],
   "source": [
    "#qp3\n",
    "\n",
    "def curson(num):\n",
    "    c=(2**num)+1\n",
    "    d=(2*num)+1\n",
    "    if c%d==0:\n",
    "        return True\n",
    "    else:\n",
    "        return False\n",
    "    \n",
    "cus=int(input(\"Enter the number:\"))\n",
    "print(curson(cus))\n",
    "    "
   ]
  },
  {
   "cell_type": "code",
   "execution_count": 28,
   "id": "2de1e086",
   "metadata": {},
   "outputs": [
    {
     "name": "stdout",
     "output_type": "stream",
     "text": [
      "Enter the number:1\n",
      "2.6\n"
     ]
    }
   ],
   "source": [
    "#qp4\n",
    "\n",
    "import math\n",
    "\n",
    "def hexagon(num):\n",
    "    s=math.sqrt(3)\n",
    "    area=((3*s)*(num*num))/2\n",
    "    an=round(area,1)\n",
    "    return an\n",
    "\n",
    "a=int(input(\"Enter the number:\"))\n",
    "print(hexagon(a))"
   ]
  },
  {
   "cell_type": "code",
   "execution_count": 5,
   "id": "63c359f1",
   "metadata": {},
   "outputs": [
    {
     "name": "stdout",
     "output_type": "stream",
     "text": [
      "Enter the decimal value5\n",
      "0101"
     ]
    }
   ],
   "source": [
    "#qp5\n",
    "\n",
    "def DecimalToBinary(num):\n",
    "     \n",
    "    if num >= 1:\n",
    "        DecimalToBinary(num // 2)\n",
    "    print(num % 2, end = '')\n",
    "    \n",
    "if __name__ == '__main__':\n",
    "     \n",
    "    dec_val = int(input(\"Enter the decimal value\"))\n",
    "    \n",
    "    DecimalToBinary(dec_val)"
   ]
  },
  {
   "cell_type": "code",
   "execution_count": 11,
   "id": "87cd9181",
   "metadata": {},
   "outputs": [
    {
     "name": "stdout",
     "output_type": "stream",
     "text": [
      "101\n"
     ]
    }
   ],
   "source": [
    "deci=5\n",
    "print(bin(deci)[2:])"
   ]
  },
  {
   "cell_type": "code",
   "execution_count": null,
   "id": "938f5435",
   "metadata": {},
   "outputs": [],
   "source": []
  }
 ],
 "metadata": {
  "kernelspec": {
   "display_name": "Python 3 (ipykernel)",
   "language": "python",
   "name": "python3"
  },
  "language_info": {
   "codemirror_mode": {
    "name": "ipython",
    "version": 3
   },
   "file_extension": ".py",
   "mimetype": "text/x-python",
   "name": "python",
   "nbconvert_exporter": "python",
   "pygments_lexer": "ipython3",
   "version": "3.9.12"
  }
 },
 "nbformat": 4,
 "nbformat_minor": 5
}
